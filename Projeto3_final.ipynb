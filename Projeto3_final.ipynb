{
 "cells": [
  {
   "cell_type": "markdown",
   "metadata": {},
   "source": [
    "___\n",
    "# Ciência dos Dados - PROJETO 3 - INSPER"
   ]
  },
  {
   "cell_type": "markdown",
   "metadata": {},
   "source": [
    "___\n",
    "## João Pedro Montefeltro Junqueira Meirelles\n",
    "\n",
    "## Luciana Cocito Alves de Freitas\n",
    "\n",
    "## Rodrigo Gatti Coutinho\n",
    "\n",
    "___"
   ]
  },
  {
   "cell_type": "markdown",
   "metadata": {},
   "source": [
    "___\n",
    "\n",
    "## INTRODUÇÃO"
   ]
  },
  {
   "cell_type": "markdown",
   "metadata": {},
   "source": [
    "O objetivo principal desse projeto é, a partir da análise de um uma base de dados, criar modelos preditivos que, baseados em diversas variaveis do banco de dado escolhido, faça uma previsão a respeito de uma variavel quantitativa. A partir desse objetivo, buscamos prever qual seria a renda mensal de uma mulher brasileira de acordo com sua idade, escolaridade e região. Para isso, utilizamos uma PNAD de 2015 e a filtramos, selecionando apenas as variaveis que julgamos necessárias para chegarmos a essa previsão."
   ]
  },
  {
   "cell_type": "markdown",
   "metadata": {},
   "source": [
    "___\n",
    "## MINERANDO DADOS e CARACTERÍSTICAS DO DATASET"
   ]
  },
  {
   "cell_type": "markdown",
   "metadata": {},
   "source": [
    " A base de dados utilizada possui centenas de características para serem analisadas. Nesse projeto pretendemos utilizar somente as variáveis: sexo (mulher), rendimento mensal, escolaridade e região. A seguir, filtraremos nosso dataframe de acordo com as variáveis citadas, retirando todas as linhas que possuem informações importantes para análise em questão faltando."
   ]
  },
  {
   "cell_type": "code",
   "execution_count": 119,
   "metadata": {},
   "outputs": [],
   "source": [
    "%matplotlib inline\n",
    "import pandas as pd\n",
    "import os\n",
    "import numpy as np\n",
    "from numpy import arange\n",
    "from scipy import stats\n",
    "import matplotlib.pyplot as plt\n",
    "import sklearn\n",
    "import statsmodels.api as sm\n",
    "from statsmodels.formula.api import ols\n",
    "from statsmodels.sandbox.regression.predstd import wls_prediction_std\n",
    "from sklearn import linear_model"
   ]
  },
  {
   "cell_type": "markdown",
   "metadata": {},
   "source": [
    "### BASE DE DADOS"
   ]
  },
  {
   "cell_type": "code",
   "execution_count": 120,
   "metadata": {
    "scrolled": true
   },
   "outputs": [
    {
     "data": {
      "text/html": [
       "<div>\n",
       "<style>\n",
       "    .dataframe thead tr:only-child th {\n",
       "        text-align: right;\n",
       "    }\n",
       "\n",
       "    .dataframe thead th {\n",
       "        text-align: left;\n",
       "    }\n",
       "\n",
       "    .dataframe tbody tr th {\n",
       "        vertical-align: top;\n",
       "    }\n",
       "</style>\n",
       "<table border=\"1\" class=\"dataframe\">\n",
       "  <thead>\n",
       "    <tr style=\"text-align: right;\">\n",
       "      <th></th>\n",
       "      <th>Unnamed: 0</th>\n",
       "      <th>V0101</th>\n",
       "      <th>UF</th>\n",
       "      <th>V0102</th>\n",
       "      <th>V0103</th>\n",
       "      <th>V0301</th>\n",
       "      <th>V0302</th>\n",
       "      <th>V3031</th>\n",
       "      <th>V3032</th>\n",
       "      <th>V3033</th>\n",
       "      <th>...</th>\n",
       "      <th>V4741</th>\n",
       "      <th>V4742</th>\n",
       "      <th>V4743</th>\n",
       "      <th>V4745</th>\n",
       "      <th>V4746</th>\n",
       "      <th>V4747</th>\n",
       "      <th>V4748</th>\n",
       "      <th>V4749</th>\n",
       "      <th>V4750</th>\n",
       "      <th>V9993</th>\n",
       "    </tr>\n",
       "  </thead>\n",
       "  <tbody>\n",
       "    <tr>\n",
       "      <th>0</th>\n",
       "      <td>0</td>\n",
       "      <td>2015</td>\n",
       "      <td>11</td>\n",
       "      <td>15</td>\n",
       "      <td>1</td>\n",
       "      <td>1</td>\n",
       "      <td>2</td>\n",
       "      <td>27</td>\n",
       "      <td>2</td>\n",
       "      <td>1992</td>\n",
       "      <td>...</td>\n",
       "      <td>1.0</td>\n",
       "      <td>800.0</td>\n",
       "      <td>4.0</td>\n",
       "      <td>5</td>\n",
       "      <td>1.0</td>\n",
       "      <td>2.0</td>\n",
       "      <td>2.0</td>\n",
       "      <td>1.0</td>\n",
       "      <td>800.0</td>\n",
       "      <td>20161117</td>\n",
       "    </tr>\n",
       "    <tr>\n",
       "      <th>1</th>\n",
       "      <td>1</td>\n",
       "      <td>2015</td>\n",
       "      <td>11</td>\n",
       "      <td>15</td>\n",
       "      <td>3</td>\n",
       "      <td>1</td>\n",
       "      <td>4</td>\n",
       "      <td>4</td>\n",
       "      <td>5</td>\n",
       "      <td>1992</td>\n",
       "      <td>...</td>\n",
       "      <td>1.0</td>\n",
       "      <td>1150.0</td>\n",
       "      <td>4.0</td>\n",
       "      <td>5</td>\n",
       "      <td>1.0</td>\n",
       "      <td>2.0</td>\n",
       "      <td>2.0</td>\n",
       "      <td>1.0</td>\n",
       "      <td>1150.0</td>\n",
       "      <td>20161117</td>\n",
       "    </tr>\n",
       "    <tr>\n",
       "      <th>2</th>\n",
       "      <td>2</td>\n",
       "      <td>2015</td>\n",
       "      <td>11</td>\n",
       "      <td>15</td>\n",
       "      <td>4</td>\n",
       "      <td>1</td>\n",
       "      <td>4</td>\n",
       "      <td>4</td>\n",
       "      <td>1</td>\n",
       "      <td>1980</td>\n",
       "      <td>...</td>\n",
       "      <td>6.0</td>\n",
       "      <td>793.0</td>\n",
       "      <td>4.0</td>\n",
       "      <td>6</td>\n",
       "      <td>1.0</td>\n",
       "      <td>2.0</td>\n",
       "      <td>2.0</td>\n",
       "      <td>1.0</td>\n",
       "      <td>793.0</td>\n",
       "      <td>20161117</td>\n",
       "    </tr>\n",
       "    <tr>\n",
       "      <th>3</th>\n",
       "      <td>3</td>\n",
       "      <td>2015</td>\n",
       "      <td>11</td>\n",
       "      <td>15</td>\n",
       "      <td>4</td>\n",
       "      <td>2</td>\n",
       "      <td>2</td>\n",
       "      <td>5</td>\n",
       "      <td>6</td>\n",
       "      <td>1981</td>\n",
       "      <td>...</td>\n",
       "      <td>6.0</td>\n",
       "      <td>793.0</td>\n",
       "      <td>4.0</td>\n",
       "      <td>7</td>\n",
       "      <td>1.0</td>\n",
       "      <td>2.0</td>\n",
       "      <td>2.0</td>\n",
       "      <td>1.0</td>\n",
       "      <td>793.0</td>\n",
       "      <td>20161117</td>\n",
       "    </tr>\n",
       "    <tr>\n",
       "      <th>7</th>\n",
       "      <td>7</td>\n",
       "      <td>2015</td>\n",
       "      <td>11</td>\n",
       "      <td>15</td>\n",
       "      <td>4</td>\n",
       "      <td>6</td>\n",
       "      <td>4</td>\n",
       "      <td>8</td>\n",
       "      <td>9</td>\n",
       "      <td>1997</td>\n",
       "      <td>...</td>\n",
       "      <td>6.0</td>\n",
       "      <td>793.0</td>\n",
       "      <td>4.0</td>\n",
       "      <td>5</td>\n",
       "      <td>1.0</td>\n",
       "      <td>2.0</td>\n",
       "      <td>2.0</td>\n",
       "      <td>1.0</td>\n",
       "      <td>793.0</td>\n",
       "      <td>20161117</td>\n",
       "    </tr>\n",
       "  </tbody>\n",
       "</table>\n",
       "<p>5 rows × 329 columns</p>\n",
       "</div>"
      ],
      "text/plain": [
       "   Unnamed: 0  V0101  UF  V0102  V0103  V0301  V0302  V3031  V3032  V3033  \\\n",
       "0           0   2015  11     15      1      1      2     27      2   1992   \n",
       "1           1   2015  11     15      3      1      4      4      5   1992   \n",
       "2           2   2015  11     15      4      1      4      4      1   1980   \n",
       "3           3   2015  11     15      4      2      2      5      6   1981   \n",
       "7           7   2015  11     15      4      6      4      8      9   1997   \n",
       "\n",
       "     ...     V4741   V4742  V4743  V4745  V4746  V4747  V4748  V4749   V4750  \\\n",
       "0    ...       1.0   800.0    4.0      5    1.0    2.0    2.0    1.0   800.0   \n",
       "1    ...       1.0  1150.0    4.0      5    1.0    2.0    2.0    1.0  1150.0   \n",
       "2    ...       6.0   793.0    4.0      6    1.0    2.0    2.0    1.0   793.0   \n",
       "3    ...       6.0   793.0    4.0      7    1.0    2.0    2.0    1.0   793.0   \n",
       "7    ...       6.0   793.0    4.0      5    1.0    2.0    2.0    1.0   793.0   \n",
       "\n",
       "      V9993  \n",
       "0  20161117  \n",
       "1  20161117  \n",
       "2  20161117  \n",
       "3  20161117  \n",
       "7  20161117  \n",
       "\n",
       "[5 rows x 329 columns]"
      ]
     },
     "execution_count": 120,
     "metadata": {},
     "output_type": "execute_result"
    }
   ],
   "source": [
    "#Dataframe: PNAD 2015\n",
    "\n",
    "dado = pd.read_csv(\"PES2015.csv\")\n",
    "dado = dado[dado.V8005 >= 18] #separando para pessoas acima de 18 anos\n",
    "dado.head()"
   ]
  },
  {
   "cell_type": "code",
   "execution_count": 121,
   "metadata": {
    "collapsed": true
   },
   "outputs": [],
   "source": [
    "#reagrupando os tipos de ensino de acordo com a escolaridade desejada (muito baixa, baixa, média e alta)\n",
    "muito_baixa = [1,2,3]\n",
    "baixa = [4,5,6,7,8,9]\n",
    "media = [10]\n",
    "alta = [11]\n",
    "\n",
    "i = 0\n",
    "while i <= 11:\n",
    "    if i in muito_baixa:\n",
    "        exec('dado.loc[dado.V4802 ==' + str(i) + ', \"V4802\"] = \"Muito Baixo\"')\n",
    "    elif i in baixa:\n",
    "        exec('dado.loc[dado.V4802 ==' + str(i) + ', \"V4802\"] = \"Baixo\"')\n",
    "    elif i in media:\n",
    "        exec('dado.loc[dado.V4802 ==' + str(i) + ', \"V4802\"] = \"Médio\"')\n",
    "    elif i in alta:\n",
    "        exec('dado.loc[dado.V4802 ==' + str(i) + ', \"V4802\"] = \"Alto\"')\n",
    "    else:\n",
    "        pass\n",
    "    i += 1"
   ]
  },
  {
   "cell_type": "markdown",
   "metadata": {},
   "source": [
    "O critério usado para o reagrupamento de tipos de ensino foi:\n",
    "<ol><li>Maternal, jardim de infância etc.; Classe de alfabetização; Alfabetização de adultos = Muito baixo</li><li>1ª a 4ª séries do ensino fundamental regular em 8 anos ou de educação de jovens e adultos; 5ª a 8ª séries do ensino fundamental regular em 8 anos ou de educação de jovens e adultos; 1ª série do ensino fundamental regular em 9 anos; 2ª a 5ª séries do ensino fundamental regular em 9 anos ; 6ª a 9ª séries do ensino fundamental regular em 9 anos ; Educação de jovens e adultos não seriado do ensino fundamental = Baixo</li><li>Ensino médio, inclusive pré-vestibular = Médio</li><li>Superior, inclusive mestrado ou doutorado = Alto</li></ol> "
   ]
  },
  {
   "cell_type": "code",
   "execution_count": 122,
   "metadata": {
    "collapsed": true
   },
   "outputs": [],
   "source": [
    "#variáveis a serem utilizadas\n",
    "dado = dado.loc[:, [\"UF\", \"V0302\", \"V8005\",\"V4802\", \"V4718\",\"V4803\"]]\n",
    "dado.to_csv(\"resumo.csv\") #salva em um arquivo no excel\n",
    "dado.UF = dado.UF.astype('category')\n",
    "dado.UF.cat.categories = ('Rondônia','Acre','Amazonas','Roraima','Pará','Amapá','Tocantins','Maranhão','Piauí','Ceará','Rio Grande do Norte','Paraíba','Pernambuco','Alagoas','Sergipe','Bahia','Minas Gerais','Espírito Santo','Rio de Janeiro','São Paulo','Paraná','Santa Catarina','Rio Grande do Sul','Mato Grosso do Sul','Mato Grosso','Goiás','Distrito Federal')\n",
    "dado.V0302 = dado.V0302.astype('category')\n",
    "dado.V0302.cat.categories = ('Homem', 'Mulher')\n",
    "dado.loc[(dado.UF=='Rondônia') | (dado.UF=='Acre') | (dado.UF=='Amazonas') | (dado.UF=='Roraima') | (dado.UF=='Pará') | (dado.UF=='Amapá') | (dado.UF=='Tocantins'),'Região'] = 'Norte'\n",
    "dado.loc[(dado.UF=='Maranhão') | (dado.UF=='Piaui') | (dado.UF=='Caerá') | (dado.UF=='Rio Grande do Norte') | (dado.UF=='Paraíba') | (dado.UF=='Pernambuco') | (dado.UF=='Alagoas') | (dado.UF=='Sergipe') | (dado.UF=='Bahia'),'Região'] = 'Nordeste'\n",
    "dado.loc[(dado.UF=='Minas Gerais') | (dado.UF=='Espirito Santo') | (dado.UF=='Rio de Janeiro') | (dado.UF=='São Paulo'),'Região'] = 'Sudeste'\n",
    "dado.loc[(dado.UF=='Paraná') | (dado.UF=='Santa Catarina') | (dado.UF=='Rio Grande do Sul'),'Região'] = 'Sul'\n",
    "dado.loc[(dado.UF=='Mato Grosso do Sul') | (dado.UF=='Mato Grosso') | (dado.UF=='Goiás') | (dado.UF=='Distrito Federal'),'Região'] = 'Centroeste'"
   ]
  },
  {
   "cell_type": "code",
   "execution_count": 123,
   "metadata": {},
   "outputs": [
    {
     "data": {
      "text/html": [
       "<div>\n",
       "<style>\n",
       "    .dataframe thead tr:only-child th {\n",
       "        text-align: right;\n",
       "    }\n",
       "\n",
       "    .dataframe thead th {\n",
       "        text-align: left;\n",
       "    }\n",
       "\n",
       "    .dataframe tbody tr th {\n",
       "        vertical-align: top;\n",
       "    }\n",
       "</style>\n",
       "<table border=\"1\" class=\"dataframe\">\n",
       "  <thead>\n",
       "    <tr style=\"text-align: right;\">\n",
       "      <th></th>\n",
       "      <th>Anos_estudo</th>\n",
       "      <th>Ensino</th>\n",
       "      <th>Idade</th>\n",
       "      <th>Região</th>\n",
       "      <th>Rendimento_mensal</th>\n",
       "      <th>Sexo</th>\n",
       "    </tr>\n",
       "  </thead>\n",
       "  <tbody>\n",
       "    <tr>\n",
       "      <th>2</th>\n",
       "      <td>15.0</td>\n",
       "      <td>Alto</td>\n",
       "      <td>35</td>\n",
       "      <td>Norte</td>\n",
       "      <td>880.0</td>\n",
       "      <td>Mulher</td>\n",
       "    </tr>\n",
       "    <tr>\n",
       "      <th>25</th>\n",
       "      <td>14.0</td>\n",
       "      <td>Alto</td>\n",
       "      <td>50</td>\n",
       "      <td>Norte</td>\n",
       "      <td>1800.0</td>\n",
       "      <td>Mulher</td>\n",
       "    </tr>\n",
       "    <tr>\n",
       "      <th>54</th>\n",
       "      <td>14.0</td>\n",
       "      <td>Alto</td>\n",
       "      <td>35</td>\n",
       "      <td>Norte</td>\n",
       "      <td>800.0</td>\n",
       "      <td>Mulher</td>\n",
       "    </tr>\n",
       "    <tr>\n",
       "      <th>71</th>\n",
       "      <td>11.0</td>\n",
       "      <td>Médio</td>\n",
       "      <td>34</td>\n",
       "      <td>Norte</td>\n",
       "      <td>1600.0</td>\n",
       "      <td>Mulher</td>\n",
       "    </tr>\n",
       "    <tr>\n",
       "      <th>198</th>\n",
       "      <td>13.0</td>\n",
       "      <td>Alto</td>\n",
       "      <td>39</td>\n",
       "      <td>Norte</td>\n",
       "      <td>1000.0</td>\n",
       "      <td>Mulher</td>\n",
       "    </tr>\n",
       "  </tbody>\n",
       "</table>\n",
       "</div>"
      ],
      "text/plain": [
       "     Anos_estudo Ensino  Idade Região  Rendimento_mensal    Sexo\n",
       "2           15.0   Alto     35  Norte              880.0  Mulher\n",
       "25          14.0   Alto     50  Norte             1800.0  Mulher\n",
       "54          14.0   Alto     35  Norte              800.0  Mulher\n",
       "71          11.0  Médio     34  Norte             1600.0  Mulher\n",
       "198         13.0   Alto     39  Norte             1000.0  Mulher"
      ]
     },
     "execution_count": 123,
     "metadata": {},
     "output_type": "execute_result"
    }
   ],
   "source": [
    "#retirando os dados nulos\n",
    "dado_not_null = dado[pd.notnull(dado.V0302)& pd.notnull(dado.V8005)& pd.notnull(dado.V4802)& pd.notnull(dado.V4718)]\n",
    "\n",
    "#Dataframe completa\n",
    "DFALL = pd.DataFrame({'Região':dado_not_null['Região'],'Sexo':dado_not_null.V0302,'Idade':dado_not_null.V8005,'Ensino':dado_not_null.V4802,'Rendimento_mensal':dado_not_null.V4718.loc[dado.V4718 <= 200000],'Anos_estudo':dado_not_null.V4803.loc[dado.V4803 != 17]})\n",
    "DFALL = DFALL[DFALL.Sexo == \"Mulher\"] #análise somente sobre as mulheres\n",
    "DFALL.head()"
   ]
  },
  {
   "cell_type": "code",
   "execution_count": 124,
   "metadata": {},
   "outputs": [
    {
     "data": {
      "text/plain": [
       "count     5849.000000\n",
       "mean      1299.096085\n",
       "std       1415.047292\n",
       "min          0.000000\n",
       "25%        788.000000\n",
       "50%        950.000000\n",
       "75%       1500.000000\n",
       "max      25000.000000\n",
       "Name: Rendimento_mensal, dtype: float64"
      ]
     },
     "execution_count": 124,
     "metadata": {},
     "output_type": "execute_result"
    }
   ],
   "source": [
    "#DESCRIÇÃO DA RENDA MENSAL NO BRASIL - 2015\n",
    "DFALL[\"Rendimento_mensal\"].describe()"
   ]
  },
  {
   "cell_type": "markdown",
   "metadata": {},
   "source": [
    "### ANÁLISE DESCRITIVA"
   ]
  },
  {
   "cell_type": "markdown",
   "metadata": {},
   "source": [
    "Porcentagem de mulheres em cada grupo de ensino:"
   ]
  },
  {
   "cell_type": "code",
   "execution_count": 125,
   "metadata": {},
   "outputs": [
    {
     "data": {
      "text/plain": [
       "Alto           77.319588\n",
       "Médio          16.123035\n",
       "Baixo           5.847558\n",
       "Muito Baixo     0.709819\n",
       "Name: Ensino, dtype: float64"
      ]
     },
     "execution_count": 125,
     "metadata": {},
     "output_type": "execute_result"
    }
   ],
   "source": [
    "count_ensino = DFALL['Ensino'].value_counts(True)*100\n",
    "count_ensino"
   ]
  },
  {
   "cell_type": "markdown",
   "metadata": {
    "collapsed": true
   },
   "source": [
    "Porcentagem de mulheres por idade:"
   ]
  },
  {
   "cell_type": "code",
   "execution_count": 126,
   "metadata": {},
   "outputs": [
    {
     "data": {
      "text/plain": [
       "20    7.216495\n",
       "21    6.455974\n",
       "18    6.405273\n",
       "19    5.948961\n",
       "22    5.864458\n",
       "23    5.036336\n",
       "24    4.343417\n",
       "26    4.326517\n",
       "25    4.309616\n",
       "27    3.751901\n",
       "29    3.380091\n",
       "28    3.160385\n",
       "30    3.143485\n",
       "32    3.042082\n",
       "31    2.805476\n",
       "34    2.568869\n",
       "33    2.484367\n",
       "35    2.416765\n",
       "36    2.332263\n",
       "37    2.197059\n",
       "40    1.706946\n",
       "38    1.622444\n",
       "39    1.537942\n",
       "43    1.419638\n",
       "41    1.335136\n",
       "42    1.115430\n",
       "46    1.064729\n",
       "50    0.912625\n",
       "45    0.895724\n",
       "48    0.895724\n",
       "47    0.895724\n",
       "44    0.777421\n",
       "49    0.726720\n",
       "52    0.625317\n",
       "51    0.591516\n",
       "53    0.439412\n",
       "54    0.371810\n",
       "57    0.321109\n",
       "55    0.304208\n",
       "56    0.270407\n",
       "58    0.169005\n",
       "61    0.152104\n",
       "59    0.135204\n",
       "60    0.118303\n",
       "63    0.050701\n",
       "62    0.050701\n",
       "64    0.050701\n",
       "67    0.050701\n",
       "69    0.050701\n",
       "71    0.033801\n",
       "68    0.033801\n",
       "72    0.016900\n",
       "65    0.016900\n",
       "66    0.016900\n",
       "78    0.016900\n",
       "81    0.016900\n",
       "Name: Idade, dtype: float64"
      ]
     },
     "execution_count": 126,
     "metadata": {},
     "output_type": "execute_result"
    }
   ],
   "source": [
    "count_idade = DFALL['Idade'].value_counts(True)*100\n",
    "count_idade"
   ]
  },
  {
   "cell_type": "markdown",
   "metadata": {},
   "source": [
    "Porcentagem de mulheres por região:"
   ]
  },
  {
   "cell_type": "code",
   "execution_count": 127,
   "metadata": {},
   "outputs": [
    {
     "data": {
      "text/plain": [
       "Sudeste       26.927333\n",
       "Nordeste      21.984508\n",
       "Sul           19.347104\n",
       "Norte         17.189229\n",
       "Centroeste    14.551826\n",
       "Name: Região, dtype: float64"
      ]
     },
     "execution_count": 127,
     "metadata": {},
     "output_type": "execute_result"
    }
   ],
   "source": [
    "count_regiao = DFALL['Região'].value_counts(True)*100\n",
    "count_regiao"
   ]
  },
  {
   "cell_type": "markdown",
   "metadata": {},
   "source": [
    "Porcentagem de mulheres por valores de rendimento mensal:"
   ]
  },
  {
   "cell_type": "code",
   "execution_count": 128,
   "metadata": {},
   "outputs": [
    {
     "data": {
      "text/plain": [
       "788.0     14.070781\n",
       "1200.0     6.770388\n",
       "1000.0     6.428449\n",
       "1500.0     4.838434\n",
       "0.0        4.274235\n",
       "800.0      3.881005\n",
       "2000.0     3.846811\n",
       "900.0      3.812618\n",
       "400.0      2.803898\n",
       "500.0      2.325184\n",
       "1100.0     2.188408\n",
       "600.0      2.171311\n",
       "1300.0     2.068730\n",
       "3000.0     1.897760\n",
       "1400.0     1.658403\n",
       "1600.0     1.572918\n",
       "1800.0     1.538725\n",
       "300.0      1.504531\n",
       "2500.0     1.453240\n",
       "850.0      1.316464\n",
       "700.0      1.265174\n",
       "200.0      1.128398\n",
       "4000.0     0.871944\n",
       "1700.0     0.735168\n",
       "2200.0     0.700975\n",
       "950.0      0.632587\n",
       "5000.0     0.598393\n",
       "3500.0     0.598393\n",
       "450.0      0.564199\n",
       "350.0      0.564199\n",
       "            ...    \n",
       "5400.0     0.017097\n",
       "844.0      0.017097\n",
       "622.0      0.017097\n",
       "2750.0     0.017097\n",
       "5547.0     0.017097\n",
       "915.0      0.017097\n",
       "7050.0     0.017097\n",
       "1435.0     0.017097\n",
       "415.0      0.017097\n",
       "808.0      0.017097\n",
       "130.0      0.017097\n",
       "2225.0     0.017097\n",
       "462.0      0.017097\n",
       "810.0      0.017097\n",
       "1053.0     0.017097\n",
       "4771.0     0.017097\n",
       "1913.0     0.017097\n",
       "1368.0     0.017097\n",
       "1384.0     0.017097\n",
       "862.0      0.017097\n",
       "1523.0     0.017097\n",
       "375.0      0.017097\n",
       "791.0      0.017097\n",
       "377.0      0.017097\n",
       "1322.0     0.017097\n",
       "2250.0     0.017097\n",
       "4120.0     0.017097\n",
       "644.0      0.017097\n",
       "888.0      0.017097\n",
       "1123.0     0.017097\n",
       "Name: Rendimento_mensal, Length: 430, dtype: float64"
      ]
     },
     "execution_count": 128,
     "metadata": {},
     "output_type": "execute_result"
    }
   ],
   "source": [
    "count_rendimento = DFALL['Rendimento_mensal'].value_counts(True)*100\n",
    "count_rendimento"
   ]
  },
  {
   "cell_type": "code",
   "execution_count": 129,
   "metadata": {},
   "outputs": [
    {
     "data": {
      "text/html": [
       "<div>\n",
       "<style>\n",
       "    .dataframe thead tr:only-child th {\n",
       "        text-align: right;\n",
       "    }\n",
       "\n",
       "    .dataframe thead th {\n",
       "        text-align: left;\n",
       "    }\n",
       "\n",
       "    .dataframe tbody tr th {\n",
       "        vertical-align: top;\n",
       "    }\n",
       "</style>\n",
       "<table border=\"1\" class=\"dataframe\">\n",
       "  <thead>\n",
       "    <tr style=\"text-align: right;\">\n",
       "      <th>Sexo</th>\n",
       "      <th>Mulher</th>\n",
       "    </tr>\n",
       "    <tr>\n",
       "      <th>Rendimento_mensal</th>\n",
       "      <th></th>\n",
       "    </tr>\n",
       "  </thead>\n",
       "  <tbody>\n",
       "    <tr>\n",
       "      <th>10.0</th>\n",
       "      <td>1</td>\n",
       "    </tr>\n",
       "    <tr>\n",
       "      <th>15.0</th>\n",
       "      <td>1</td>\n",
       "    </tr>\n",
       "    <tr>\n",
       "      <th>16.0</th>\n",
       "      <td>1</td>\n",
       "    </tr>\n",
       "    <tr>\n",
       "      <th>20.0</th>\n",
       "      <td>1</td>\n",
       "    </tr>\n",
       "    <tr>\n",
       "      <th>25.0</th>\n",
       "      <td>1</td>\n",
       "    </tr>\n",
       "    <tr>\n",
       "      <th>30.0</th>\n",
       "      <td>6</td>\n",
       "    </tr>\n",
       "    <tr>\n",
       "      <th>31.0</th>\n",
       "      <td>1</td>\n",
       "    </tr>\n",
       "    <tr>\n",
       "      <th>33.0</th>\n",
       "      <td>1</td>\n",
       "    </tr>\n",
       "    <tr>\n",
       "      <th>40.0</th>\n",
       "      <td>2</td>\n",
       "    </tr>\n",
       "    <tr>\n",
       "      <th>50.0</th>\n",
       "      <td>7</td>\n",
       "    </tr>\n",
       "    <tr>\n",
       "      <th>60.0</th>\n",
       "      <td>7</td>\n",
       "    </tr>\n",
       "    <tr>\n",
       "      <th>70.0</th>\n",
       "      <td>6</td>\n",
       "    </tr>\n",
       "    <tr>\n",
       "      <th>75.0</th>\n",
       "      <td>1</td>\n",
       "    </tr>\n",
       "    <tr>\n",
       "      <th>80.0</th>\n",
       "      <td>7</td>\n",
       "    </tr>\n",
       "    <tr>\n",
       "      <th>90.0</th>\n",
       "      <td>1</td>\n",
       "    </tr>\n",
       "    <tr>\n",
       "      <th>94.0</th>\n",
       "      <td>1</td>\n",
       "    </tr>\n",
       "    <tr>\n",
       "      <th>100.0</th>\n",
       "      <td>29</td>\n",
       "    </tr>\n",
       "    <tr>\n",
       "      <th>110.0</th>\n",
       "      <td>1</td>\n",
       "    </tr>\n",
       "    <tr>\n",
       "      <th>120.0</th>\n",
       "      <td>8</td>\n",
       "    </tr>\n",
       "    <tr>\n",
       "      <th>130.0</th>\n",
       "      <td>1</td>\n",
       "    </tr>\n",
       "    <tr>\n",
       "      <th>140.0</th>\n",
       "      <td>1</td>\n",
       "    </tr>\n",
       "    <tr>\n",
       "      <th>150.0</th>\n",
       "      <td>27</td>\n",
       "    </tr>\n",
       "    <tr>\n",
       "      <th>160.0</th>\n",
       "      <td>2</td>\n",
       "    </tr>\n",
       "    <tr>\n",
       "      <th>170.0</th>\n",
       "      <td>1</td>\n",
       "    </tr>\n",
       "    <tr>\n",
       "      <th>180.0</th>\n",
       "      <td>2</td>\n",
       "    </tr>\n",
       "    <tr>\n",
       "      <th>190.0</th>\n",
       "      <td>1</td>\n",
       "    </tr>\n",
       "    <tr>\n",
       "      <th>200.0</th>\n",
       "      <td>66</td>\n",
       "    </tr>\n",
       "    <tr>\n",
       "      <th>205.0</th>\n",
       "      <td>1</td>\n",
       "    </tr>\n",
       "    <tr>\n",
       "      <th>210.0</th>\n",
       "      <td>1</td>\n",
       "    </tr>\n",
       "    <tr>\n",
       "      <th>220.0</th>\n",
       "      <td>2</td>\n",
       "    </tr>\n",
       "    <tr>\n",
       "      <th>...</th>\n",
       "      <td>...</td>\n",
       "    </tr>\n",
       "    <tr>\n",
       "      <th>5400.0</th>\n",
       "      <td>1</td>\n",
       "    </tr>\n",
       "    <tr>\n",
       "      <th>5500.0</th>\n",
       "      <td>6</td>\n",
       "    </tr>\n",
       "    <tr>\n",
       "      <th>5547.0</th>\n",
       "      <td>1</td>\n",
       "    </tr>\n",
       "    <tr>\n",
       "      <th>5582.0</th>\n",
       "      <td>1</td>\n",
       "    </tr>\n",
       "    <tr>\n",
       "      <th>5600.0</th>\n",
       "      <td>2</td>\n",
       "    </tr>\n",
       "    <tr>\n",
       "      <th>5700.0</th>\n",
       "      <td>1</td>\n",
       "    </tr>\n",
       "    <tr>\n",
       "      <th>5800.0</th>\n",
       "      <td>1</td>\n",
       "    </tr>\n",
       "    <tr>\n",
       "      <th>6000.0</th>\n",
       "      <td>23</td>\n",
       "    </tr>\n",
       "    <tr>\n",
       "      <th>6300.0</th>\n",
       "      <td>1</td>\n",
       "    </tr>\n",
       "    <tr>\n",
       "      <th>6400.0</th>\n",
       "      <td>1</td>\n",
       "    </tr>\n",
       "    <tr>\n",
       "      <th>6500.0</th>\n",
       "      <td>4</td>\n",
       "    </tr>\n",
       "    <tr>\n",
       "      <th>7000.0</th>\n",
       "      <td>14</td>\n",
       "    </tr>\n",
       "    <tr>\n",
       "      <th>7050.0</th>\n",
       "      <td>1</td>\n",
       "    </tr>\n",
       "    <tr>\n",
       "      <th>8000.0</th>\n",
       "      <td>17</td>\n",
       "    </tr>\n",
       "    <tr>\n",
       "      <th>8500.0</th>\n",
       "      <td>1</td>\n",
       "    </tr>\n",
       "    <tr>\n",
       "      <th>9000.0</th>\n",
       "      <td>3</td>\n",
       "    </tr>\n",
       "    <tr>\n",
       "      <th>9110.0</th>\n",
       "      <td>1</td>\n",
       "    </tr>\n",
       "    <tr>\n",
       "      <th>9500.0</th>\n",
       "      <td>3</td>\n",
       "    </tr>\n",
       "    <tr>\n",
       "      <th>10000.0</th>\n",
       "      <td>9</td>\n",
       "    </tr>\n",
       "    <tr>\n",
       "      <th>10500.0</th>\n",
       "      <td>1</td>\n",
       "    </tr>\n",
       "    <tr>\n",
       "      <th>11000.0</th>\n",
       "      <td>2</td>\n",
       "    </tr>\n",
       "    <tr>\n",
       "      <th>12000.0</th>\n",
       "      <td>5</td>\n",
       "    </tr>\n",
       "    <tr>\n",
       "      <th>13000.0</th>\n",
       "      <td>1</td>\n",
       "    </tr>\n",
       "    <tr>\n",
       "      <th>14000.0</th>\n",
       "      <td>1</td>\n",
       "    </tr>\n",
       "    <tr>\n",
       "      <th>15000.0</th>\n",
       "      <td>4</td>\n",
       "    </tr>\n",
       "    <tr>\n",
       "      <th>15761.0</th>\n",
       "      <td>1</td>\n",
       "    </tr>\n",
       "    <tr>\n",
       "      <th>16000.0</th>\n",
       "      <td>2</td>\n",
       "    </tr>\n",
       "    <tr>\n",
       "      <th>18000.0</th>\n",
       "      <td>1</td>\n",
       "    </tr>\n",
       "    <tr>\n",
       "      <th>20000.0</th>\n",
       "      <td>2</td>\n",
       "    </tr>\n",
       "    <tr>\n",
       "      <th>25000.0</th>\n",
       "      <td>1</td>\n",
       "    </tr>\n",
       "  </tbody>\n",
       "</table>\n",
       "<p>429 rows × 1 columns</p>\n",
       "</div>"
      ],
      "text/plain": [
       "Sexo               Mulher\n",
       "Rendimento_mensal        \n",
       "10.0                    1\n",
       "15.0                    1\n",
       "16.0                    1\n",
       "20.0                    1\n",
       "25.0                    1\n",
       "30.0                    6\n",
       "31.0                    1\n",
       "33.0                    1\n",
       "40.0                    2\n",
       "50.0                    7\n",
       "60.0                    7\n",
       "70.0                    6\n",
       "75.0                    1\n",
       "80.0                    7\n",
       "90.0                    1\n",
       "94.0                    1\n",
       "100.0                  29\n",
       "110.0                   1\n",
       "120.0                   8\n",
       "130.0                   1\n",
       "140.0                   1\n",
       "150.0                  27\n",
       "160.0                   2\n",
       "170.0                   1\n",
       "180.0                   2\n",
       "190.0                   1\n",
       "200.0                  66\n",
       "205.0                   1\n",
       "210.0                   1\n",
       "220.0                   2\n",
       "...                   ...\n",
       "5400.0                  1\n",
       "5500.0                  6\n",
       "5547.0                  1\n",
       "5582.0                  1\n",
       "5600.0                  2\n",
       "5700.0                  1\n",
       "5800.0                  1\n",
       "6000.0                 23\n",
       "6300.0                  1\n",
       "6400.0                  1\n",
       "6500.0                  4\n",
       "7000.0                 14\n",
       "7050.0                  1\n",
       "8000.0                 17\n",
       "8500.0                  1\n",
       "9000.0                  3\n",
       "9110.0                  1\n",
       "9500.0                  3\n",
       "10000.0                 9\n",
       "10500.0                 1\n",
       "11000.0                 2\n",
       "12000.0                 5\n",
       "13000.0                 1\n",
       "14000.0                 1\n",
       "15000.0                 4\n",
       "15761.0                 1\n",
       "16000.0                 2\n",
       "18000.0                 1\n",
       "20000.0                 2\n",
       "25000.0                 1\n",
       "\n",
       "[429 rows x 1 columns]"
      ]
     },
     "execution_count": 129,
     "metadata": {},
     "output_type": "execute_result"
    }
   ],
   "source": [
    "ct1 = pd.crosstab(DFALL['Rendimento_mensal'][DFALL['Rendimento_mensal'] > 0],DFALL['Sexo'][DFALL['Rendimento_mensal'] > 0])\n",
    "ct1"
   ]
  },
  {
   "cell_type": "code",
   "execution_count": 130,
   "metadata": {},
   "outputs": [
    {
     "data": {
      "image/png": "[encoded data removed]",
      "text/plain": [
       "<matplotlib.figure.Figure at 0x254aaf47438>"
      ]
     },
     "metadata": {},
     "output_type": "display_data"
    }
   ],
   "source": [
    "#Salária mínimo em 2015 = 788\n",
    "faixa = arange(0,1000,10)\n",
    "\n",
    "ct1.plot.hist(bins=faixa, title='Mulheres no Brasil', figsize=(6,6), color='red', alpha=0.5)\n",
    "plt.ylabel('Frequência absoluta')\n",
    "plt.xlabel('Renda Mensal R$')\n",
    "plt.show()"
   ]
  },
  {
   "cell_type": "code",
   "execution_count": 131,
   "metadata": {},
   "outputs": [
    {
     "data": {
      "text/html": [
       "<div>\n",
       "<style>\n",
       "    .dataframe thead tr:only-child th {\n",
       "        text-align: right;\n",
       "    }\n",
       "\n",
       "    .dataframe thead th {\n",
       "        text-align: left;\n",
       "    }\n",
       "\n",
       "    .dataframe tbody tr th {\n",
       "        vertical-align: top;\n",
       "    }\n",
       "</style>\n",
       "<table border=\"1\" class=\"dataframe\">\n",
       "  <thead>\n",
       "    <tr style=\"text-align: right;\">\n",
       "      <th>Ensino</th>\n",
       "      <th>Alto</th>\n",
       "      <th>Baixo</th>\n",
       "      <th>Muito Baixo</th>\n",
       "      <th>Médio</th>\n",
       "    </tr>\n",
       "    <tr>\n",
       "      <th>Sexo</th>\n",
       "      <th></th>\n",
       "      <th></th>\n",
       "      <th></th>\n",
       "      <th></th>\n",
       "    </tr>\n",
       "  </thead>\n",
       "  <tbody>\n",
       "    <tr>\n",
       "      <th>Homem</th>\n",
       "      <td>0</td>\n",
       "      <td>0</td>\n",
       "      <td>0</td>\n",
       "      <td>0</td>\n",
       "    </tr>\n",
       "    <tr>\n",
       "      <th>Mulher</th>\n",
       "      <td>4575</td>\n",
       "      <td>346</td>\n",
       "      <td>42</td>\n",
       "      <td>954</td>\n",
       "    </tr>\n",
       "  </tbody>\n",
       "</table>\n",
       "</div>"
      ],
      "text/plain": [
       "Ensino  Alto  Baixo  Muito Baixo  Médio\n",
       "Sexo                                   \n",
       "Homem      0      0            0      0\n",
       "Mulher  4575    346           42    954"
      ]
     },
     "execution_count": 131,
     "metadata": {},
     "output_type": "execute_result"
    }
   ],
   "source": [
    "pd.crosstab(DFALL['Sexo'],DFALL['Ensino'])"
   ]
  },
  {
   "cell_type": "code",
   "execution_count": 132,
   "metadata": {},
   "outputs": [
    {
     "data": {
      "text/html": [
       "<div>\n",
       "<style>\n",
       "    .dataframe thead tr:only-child th {\n",
       "        text-align: right;\n",
       "    }\n",
       "\n",
       "    .dataframe thead th {\n",
       "        text-align: left;\n",
       "    }\n",
       "\n",
       "    .dataframe tbody tr th {\n",
       "        vertical-align: top;\n",
       "    }\n",
       "</style>\n",
       "<table border=\"1\" class=\"dataframe\">\n",
       "  <thead>\n",
       "    <tr style=\"text-align: right;\">\n",
       "      <th>Ensino</th>\n",
       "      <th>Alto</th>\n",
       "      <th>Baixo</th>\n",
       "      <th>Muito Baixo</th>\n",
       "      <th>Médio</th>\n",
       "    </tr>\n",
       "    <tr>\n",
       "      <th>Rendimento_mensal</th>\n",
       "      <th></th>\n",
       "      <th></th>\n",
       "      <th></th>\n",
       "      <th></th>\n",
       "    </tr>\n",
       "  </thead>\n",
       "  <tbody>\n",
       "    <tr>\n",
       "      <th>0.0</th>\n",
       "      <td>95</td>\n",
       "      <td>57</td>\n",
       "      <td>13</td>\n",
       "      <td>85</td>\n",
       "    </tr>\n",
       "    <tr>\n",
       "      <th>10.0</th>\n",
       "      <td>0</td>\n",
       "      <td>0</td>\n",
       "      <td>0</td>\n",
       "      <td>1</td>\n",
       "    </tr>\n",
       "    <tr>\n",
       "      <th>15.0</th>\n",
       "      <td>0</td>\n",
       "      <td>0</td>\n",
       "      <td>0</td>\n",
       "      <td>1</td>\n",
       "    </tr>\n",
       "    <tr>\n",
       "      <th>16.0</th>\n",
       "      <td>0</td>\n",
       "      <td>1</td>\n",
       "      <td>0</td>\n",
       "      <td>0</td>\n",
       "    </tr>\n",
       "    <tr>\n",
       "      <th>20.0</th>\n",
       "      <td>0</td>\n",
       "      <td>0</td>\n",
       "      <td>1</td>\n",
       "      <td>0</td>\n",
       "    </tr>\n",
       "  </tbody>\n",
       "</table>\n",
       "</div>"
      ],
      "text/plain": [
       "Ensino             Alto  Baixo  Muito Baixo  Médio\n",
       "Rendimento_mensal                                 \n",
       "0.0                  95     57           13     85\n",
       "10.0                  0      0            0      1\n",
       "15.0                  0      0            0      1\n",
       "16.0                  0      1            0      0\n",
       "20.0                  0      0            1      0"
      ]
     },
     "execution_count": 132,
     "metadata": {},
     "output_type": "execute_result"
    }
   ],
   "source": [
    "pd.crosstab(DFALL['Rendimento_mensal'],DFALL['Ensino']).head()"
   ]
  },
  {
   "cell_type": "code",
   "execution_count": 133,
   "metadata": {},
   "outputs": [
    {
     "data": {
      "text/html": [
       "<div>\n",
       "<style>\n",
       "    .dataframe thead tr:only-child th {\n",
       "        text-align: right;\n",
       "    }\n",
       "\n",
       "    .dataframe thead th {\n",
       "        text-align: left;\n",
       "    }\n",
       "\n",
       "    .dataframe tbody tr th {\n",
       "        vertical-align: top;\n",
       "    }\n",
       "</style>\n",
       "<table border=\"1\" class=\"dataframe\">\n",
       "  <thead>\n",
       "    <tr style=\"text-align: right;\">\n",
       "      <th>Região</th>\n",
       "      <th>Centroeste</th>\n",
       "      <th>Nordeste</th>\n",
       "      <th>Norte</th>\n",
       "      <th>Sudeste</th>\n",
       "      <th>Sul</th>\n",
       "    </tr>\n",
       "    <tr>\n",
       "      <th>Sexo</th>\n",
       "      <th></th>\n",
       "      <th></th>\n",
       "      <th></th>\n",
       "      <th></th>\n",
       "      <th></th>\n",
       "    </tr>\n",
       "  </thead>\n",
       "  <tbody>\n",
       "    <tr>\n",
       "      <th>Homem</th>\n",
       "      <td>0</td>\n",
       "      <td>0</td>\n",
       "      <td>0</td>\n",
       "      <td>0</td>\n",
       "      <td>0</td>\n",
       "    </tr>\n",
       "    <tr>\n",
       "      <th>Mulher</th>\n",
       "      <td>789</td>\n",
       "      <td>1192</td>\n",
       "      <td>932</td>\n",
       "      <td>1460</td>\n",
       "      <td>1049</td>\n",
       "    </tr>\n",
       "  </tbody>\n",
       "</table>\n",
       "</div>"
      ],
      "text/plain": [
       "Região  Centroeste  Nordeste  Norte  Sudeste   Sul\n",
       "Sexo                                              \n",
       "Homem            0         0      0        0     0\n",
       "Mulher         789      1192    932     1460  1049"
      ]
     },
     "execution_count": 133,
     "metadata": {},
     "output_type": "execute_result"
    }
   ],
   "source": [
    "pd.crosstab(DFALL.Sexo[(DFALL['Sexo']==\"Mulher\")],DFALL['Região'])"
   ]
  },
  {
   "cell_type": "code",
   "execution_count": 134,
   "metadata": {},
   "outputs": [
    {
     "data": {
      "image/png": "[encoded data removed]",
      "text/plain": [
       "<matplotlib.figure.Figure at 0x254aa2d5470>"
      ]
     },
     "metadata": {},
     "output_type": "display_data"
    }
   ],
   "source": [
    "DFALL.plot.scatter('Anos_estudo','Rendimento_mensal')\n",
    "plt.show()"
   ]
  },
  {
   "cell_type": "code",
   "execution_count": 135,
   "metadata": {},
   "outputs": [
    {
     "data": {
      "image/png": "[encoded data removed]",
      "text/plain": [
       "<matplotlib.figure.Figure at 0x254a9ffaac8>"
      ]
     },
     "metadata": {},
     "output_type": "display_data"
    }
   ],
   "source": [
    "DFALL.plot.scatter('Idade','Rendimento_mensal')\n",
    "plt.show()"
   ]
  },
  {
   "cell_type": "markdown",
   "metadata": {},
   "source": [
    "___\n",
    "## MODELOS DE PREDIÇÃO"
   ]
  },
  {
   "cell_type": "markdown",
   "metadata": {
    "collapsed": true
   },
   "source": []
  },
  {
   "cell_type": "markdown",
   "metadata": {
    "collapsed": true
   },
   "source": [
    "o MODELO DE PREDIÇÃO PELA MÉDIA\n",
    "\n",
    "o MODELO DOS K VIZINHOS MAIS PRÓXIMOS (K-Nearest Neighbors Regression)\n",
    "\n",
    "o MODELO DE REGRESSÃO LINEAR (Multiple Linear Regression)"
   ]
  },
  {
   "cell_type": "code",
   "execution_count": 136,
   "metadata": {
    "collapsed": true
   },
   "outputs": [],
   "source": [
    "#funções para encontrar R2 e RMS\n",
    "def R2 (n, m, f):\n",
    "    somaup = ((n - f)**2).sum()\n",
    "    var = ((n - m)**2).sum()\n",
    "    r2 = 1 - (somaup/var)\n",
    "    return r2\n",
    "\n",
    "def RMS (n, m, f):\n",
    "    somaup = ((n - f)**2).sum()\n",
    "    rms = (1/len(n)*somaup)**0.5\n",
    "    return rms"
   ]
  },
  {
   "cell_type": "code",
   "execution_count": 137,
   "metadata": {},
   "outputs": [
    {
     "name": "stderr",
     "output_type": "stream",
     "text": [
      "C:\\Users\\lucia\\Anaconda3\\lib\\site-packages\\ipykernel_launcher.py:2: SettingWithCopyWarning: \n",
      "A value is trying to be set on a copy of a slice from a DataFrame\n",
      "\n",
      "See the caveats in the documentation: http://pandas.pydata.org/pandas-docs/stable/indexing.html#indexing-view-versus-copy\n",
      "  \n",
      "C:\\Users\\lucia\\Anaconda3\\lib\\site-packages\\ipykernel_launcher.py:3: SettingWithCopyWarning: \n",
      "A value is trying to be set on a copy of a slice from a DataFrame\n",
      "\n",
      "See the caveats in the documentation: http://pandas.pydata.org/pandas-docs/stable/indexing.html#indexing-view-versus-copy\n",
      "  This is separate from the ipykernel package so we can avoid doing imports until\n",
      "C:\\Users\\lucia\\Anaconda3\\lib\\site-packages\\ipykernel_launcher.py:4: SettingWithCopyWarning: \n",
      "A value is trying to be set on a copy of a slice from a DataFrame\n",
      "\n",
      "See the caveats in the documentation: http://pandas.pydata.org/pandas-docs/stable/indexing.html#indexing-view-versus-copy\n",
      "  after removing the cwd from sys.path.\n",
      "C:\\Users\\lucia\\Anaconda3\\lib\\site-packages\\ipykernel_launcher.py:5: SettingWithCopyWarning: \n",
      "A value is trying to be set on a copy of a slice from a DataFrame\n",
      "\n",
      "See the caveats in the documentation: http://pandas.pydata.org/pandas-docs/stable/indexing.html#indexing-view-versus-copy\n",
      "  \"\"\"\n"
     ]
    }
   ],
   "source": [
    "DFALL['Região'][DFALL['Região'] == 'Nordeste'] = 1\n",
    "DFALL['Região'][DFALL['Região'] == 'Norte'] = 2\n",
    "DFALL['Região'][DFALL['Região'] == 'Sudeste'] = 3\n",
    "DFALL['Região'][DFALL['Região'] == 'Centroeste'] = 4\n",
    "DFALL['Região'][DFALL['Região'] == 'Sul'] = 5"
   ]
  },
  {
   "cell_type": "code",
   "execution_count": 138,
   "metadata": {
    "collapsed": true
   },
   "outputs": [],
   "source": [
    "#separação aleatória da base de dados em treinamento (75%) e teste (25%)\n",
    "treinamento = DFALL.sample(n=None, frac=0.75, replace=False).reset_index()\n",
    "teste = DFALL.sample(n=None, frac=0.25, replace=False).reset_index()"
   ]
  },
  {
   "cell_type": "markdown",
   "metadata": {
    "collapsed": true
   },
   "source": [
    "#### Predição pela média"
   ]
  },
  {
   "cell_type": "markdown",
   "metadata": {},
   "source": [
    "Esse modelo prevê um valor se baseando somente na média, e não considera nenhuma outra variável que poderia influenciar o modelo."
   ]
  },
  {
   "cell_type": "markdown",
   "metadata": {},
   "source": [
    "Calculamos para a base de dados de treinamento e teste."
   ]
  },
  {
   "cell_type": "code",
   "execution_count": 139,
   "metadata": {},
   "outputs": [
    {
     "name": "stdout",
     "output_type": "stream",
     "text": [
      "Rendimento mensal médio (treinamento) = 1281.866089728991\n",
      "-------x-------x-------x-------x-------x-------x-------x-------x-------\n",
      "Rendimento mensal médio (teste) = 1281.866089728991\n"
     ]
    }
   ],
   "source": [
    "print('Rendimento mensal médio (treinamento) = ' + str(treinamento['Rendimento_mensal'].mean()))\n",
    "print('-------x-------x-------x-------x-------x-------x-------x-------x-------')\n",
    "print('Rendimento mensal médio (teste) = ' + str(treinamento['Rendimento_mensal'].mean()))"
   ]
  },
  {
   "cell_type": "code",
   "execution_count": 140,
   "metadata": {},
   "outputs": [
    {
     "name": "stdout",
     "output_type": "stream",
     "text": [
      "Valor de R2 (treinamento) = 0.0\n",
      "Valor de RMS (treinamento) = 1358.4206647434942\n",
      "-------x-------x-------x-------x-------x-------x-------x-------x-------\n",
      "Valor de R2 (teste) = 0.0\n",
      "Valor de RMS (teste) = 1332.9144606584912\n"
     ]
    }
   ],
   "source": [
    "print('Valor de R2 (treinamento) = ' + str(R2(treinamento['Rendimento_mensal'],treinamento['Rendimento_mensal'].mean(),treinamento['Rendimento_mensal'].mean())))\n",
    "print('Valor de RMS (treinamento) = ' + str(RMS(treinamento['Rendimento_mensal'],treinamento['Rendimento_mensal'].mean(),treinamento['Rendimento_mensal'].mean())))\n",
    "print('-------x-------x-------x-------x-------x-------x-------x-------x-------')\n",
    "print('Valor de R2 (teste) = ' + str(R2(teste['Rendimento_mensal'],teste['Rendimento_mensal'].mean(),teste['Rendimento_mensal'].mean())))\n",
    "print('Valor de RMS (teste) = ' + str(RMS(teste['Rendimento_mensal'],teste['Rendimento_mensal'].mean(),teste['Rendimento_mensal'].mean())))"
   ]
  },
  {
   "cell_type": "markdown",
   "metadata": {},
   "source": [
    "Devemos considerar que: \n",
    "<ol><li>R2 varia de 0 à 1, e quanto mais próximo de 1 maior é a correlação entre os valores analisados;</li><li>quanto menor for o valor de RMS (podendo chegar a zero), melhor a correspondência ao seu valor real.</li></ol> \n",
    "Ou seja: esse tipo de predição não é tão indicado para o modelo, pois R2 = 0 e o valor de RMS é alto."
   ]
  },
  {
   "cell_type": "markdown",
   "metadata": {
    "collapsed": true
   },
   "source": [
    "#### Regressão linear"
   ]
  },
  {
   "cell_type": "markdown",
   "metadata": {},
   "source": [
    "Esse modelo de predição prevê os valores considerando todas as variáveis que utilizamos como características importantes a serem analisadas."
   ]
  },
  {
   "cell_type": "code",
   "execution_count": 144,
   "metadata": {
    "collapsed": true
   },
   "outputs": [],
   "source": [
    "def Regrecao(treinamento,um,dois):\n",
    "    media_capita = treinamento[um].mean()\n",
    "    media_anos = treinamento[dois].mean()\n",
    "\n",
    "    Sxy = 0\n",
    "    Sxx = 0\n",
    "\n",
    "    i = 0\n",
    "    while i < len(treinamento):\n",
    "        Sxy = Sxy + (treinamento[um][i] - media_capita)*(treinamento[dois][i] - media_capita)\n",
    "        Sxx = Sxx + (treinamento[um][i] - media_capita)**2\n",
    "        i += 1\n",
    "\n",
    "    b1 = Sxy/Sxx\n",
    "    b0 = media_anos - b1 * media_capita\n",
    "    diferenca = []\n",
    "    i = 0\n",
    "    while i < len(treinamento):\n",
    "        e = treinamento[dois][i] - (b0 + b1*treinamento[um][i])\n",
    "        diferenca.append(e)\n",
    "        i += 1\n",
    "    \n",
    "    See = 0\n",
    "    i = 0\n",
    "    while i < len(treinamento):\n",
    "        See += (treinamento[dois][i] - (b0 + b1*treinamento[um][i]))**2\n",
    "        i += 1\n",
    "    o = (See/(len(treinamento)-2))**0.5\n",
    "    ob0 = (o**2*(1/len(treinamento)+media_capita/Sxx))**0.5\n",
    "    ob1 = (o**2/Sxx)**0.5\n",
    "    \n",
    "    print('Sxx = ' + str(Sxx))\n",
    "    print('Sxy = ' + str(Sxy))\n",
    "    print('b0^2 = ' + str(b0**2))\n",
    "    print('b1^2 = ' + str(b1**2))\n",
    "    print('ob0^2 = ' + str(ob0**2))\n",
    "    print('ob1^2 = ' + str(ob1**2))\n",
    "    print('o^2 = ' + str(o**2))\n",
    "    print('-----x-----x-----x-----x-----x-----x-----x-----x-----')\n",
    "    \n",
    "    \n",
    "    mu = pd.Series(diferenca).mean()\n",
    "    sigma = pd.Series(diferenca).std()\n",
    "    x = np.arange(pd.Series(diferenca).min(),pd.Series(diferenca).max(),0.001)\n",
    "    y = stats.norm.pdf(x, loc=mu, scale=sigma)\n",
    "    plt.plot(x,y)\n",
    "    plt.hist(diferenca,bins=30, normed=True, color='r')\n",
    "    plt.show()\n",
    "    return None #Sxx, Sxy, b0, b1, ob0, ob1, o"
   ]
  },
  {
   "cell_type": "code",
   "execution_count": 145,
   "metadata": {},
   "outputs": [
    {
     "name": "stdout",
     "output_type": "stream",
     "text": [
      "Sxx = 8265882749.03\n",
      "Sxy = 5344955.8585\n",
      "b0^2 = 133.701638331\n",
      "b1^2 = 4.18128494507e-07\n",
      "ob0^2 = 0.00255564198627\n",
      "ob1^2 = 1.37120515889e-09\n",
      "o^2 = 11.3342210682\n",
      "-----x-----x-----x-----x-----x-----x-----x-----x-----\n"
     ]
    },
    {
     "data": {
      "image/png": "[encoded data removed]",
      "text/plain": [
       "<matplotlib.figure.Figure at 0x254a9e43b38>"
      ]
     },
     "metadata": {},
     "output_type": "display_data"
    }
   ],
   "source": [
    "um = 'Rendimento_mensal'\n",
    "dois = 'Anos_estudo'\n",
    "Regrecao(treinamento,um, dois)"
   ]
  },
  {
   "cell_type": "code",
   "execution_count": 146,
   "metadata": {},
   "outputs": [
    {
     "name": "stdout",
     "output_type": "stream",
     "text": [
      "Sxx = 8265882749.03\n",
      "Sxy = 14660469.8684\n",
      "b0^2 = 724.625204032\n",
      "b1^2 = 3.14569997033e-06\n",
      "ob0^2 = 0.0198667173309\n",
      "ob1^2 = 1.06592963493e-08\n",
      "o^2 = 88.1084938101\n",
      "-----x-----x-----x-----x-----x-----x-----x-----x-----\n"
     ]
    },
    {
     "data": {
      "image/png": "[encoded data removed]",
      "text/plain": [
       "<matplotlib.figure.Figure at 0x254aa5b7f28>"
      ]
     },
     "metadata": {},
     "output_type": "display_data"
    }
   ],
   "source": [
    "um = 'Rendimento_mensal'\n",
    "dois = 'Idade'\n",
    "Regrecao(treinamento,um, dois)"
   ]
  },
  {
   "cell_type": "code",
   "execution_count": 147,
   "metadata": {
    "collapsed": true
   },
   "outputs": [],
   "source": [
    "A = treinamento[['Anos_estudo','Região','Idade']]\n",
    "b = treinamento[['Rendimento_mensal']]"
   ]
  },
  {
   "cell_type": "code",
   "execution_count": 148,
   "metadata": {
    "collapsed": true
   },
   "outputs": [],
   "source": [
    "X1 = sm.add_constant(A)\n",
    "est = sm.OLS(b, X1).fit()"
   ]
  },
  {
   "cell_type": "code",
   "execution_count": 157,
   "metadata": {},
   "outputs": [
    {
     "data": {
      "image/png": "[encoded data removed]",
      "text/plain": [
       "<matplotlib.figure.Figure at 0x254aa8142b0>"
      ]
     },
     "execution_count": 157,
     "metadata": {},
     "output_type": "execute_result"
    },
    {
     "data": {
      "image/png": "[encoded data removed]",
      "text/plain": [
       "<matplotlib.figure.Figure at 0x254aa8142b0>"
      ]
     },
     "metadata": {},
     "output_type": "display_data"
    }
   ],
   "source": [
    "linear = ols(\"\"\"Rendimento_mensal ~ Ensino + Região + Idade\"\"\", data=treinamento).fit()\n",
    "fig = plt.figure(figsize=(20,12))\n",
    "fig = sm.graphics.plot_partregress_grid(linear, fig=fig)\n",
    "fig"
   ]
  },
  {
   "cell_type": "code",
   "execution_count": 158,
   "metadata": {},
   "outputs": [
    {
     "name": "stdout",
     "output_type": "stream",
     "text": [
      "                            OLS Regression Results                            \n",
      "==============================================================================\n",
      "Dep. Variable:      Rendimento_mensal   R-squared:                       0.161\n",
      "Model:                            OLS   Adj. R-squared:                  0.161\n",
      "Method:                 Least Squares   F-statistic:                     284.2\n",
      "Date:                Tue, 05 Jun 2018   Prob (F-statistic):          9.71e-169\n",
      "Time:                        21:56:02   Log-Likelihood:                -37944.\n",
      "No. Observations:                4438   AIC:                         7.590e+04\n",
      "Df Residuals:                    4434   BIC:                         7.592e+04\n",
      "Df Model:                           3                                         \n",
      "Covariance Type:            nonrobust                                         \n",
      "===============================================================================\n",
      "                  coef    std err          t      P>|t|      [0.025      0.975]\n",
      "-------------------------------------------------------------------------------\n",
      "const       -1586.2683     99.759    -15.901      0.000   -1781.845   -1390.692\n",
      "Anos_estudo   110.5082      5.434     20.335      0.000      99.854     121.162\n",
      "Região        117.4449     12.066      9.733      0.000      93.789     141.100\n",
      "Idade          40.1682      1.950     20.597      0.000      36.345      43.992\n",
      "==============================================================================\n",
      "Omnibus:                     5086.696   Durbin-Watson:                   1.955\n",
      "Prob(Omnibus):                  0.000   Jarque-Bera (JB):           786941.343\n",
      "Skew:                           5.772   Prob(JB):                         0.00\n",
      "Kurtosis:                      67.206   Cond. No.                         176.\n",
      "==============================================================================\n",
      "\n",
      "Warnings:\n",
      "[1] Standard Errors assume that the covariance matrix of the errors is correctly specified.\n"
     ]
    }
   ],
   "source": [
    "gzuis = sm.OLS(b,X1)\n",
    "xesus = gzuis.fit()\n",
    "print(xesus.summary())"
   ]
  },
  {
   "cell_type": "markdown",
   "metadata": {},
   "source": [
    "O valor de R2 é dado no sumário pela variável \"R-squared\", que no caso é: 0,169. O valor se aproxima mais de 1, portanto podemos dizer que existe uma correlação entre as variáveis analisadas e o rendimento mensal. "
   ]
  },
  {
   "cell_type": "markdown",
   "metadata": {},
   "source": [
    "A seguir realizaremos a predição do rendimento mensal:"
   ]
  },
  {
   "cell_type": "code",
   "execution_count": 159,
   "metadata": {},
   "outputs": [
    {
     "name": "stdout",
     "output_type": "stream",
     "text": [
      "0        630.466380\n",
      "1       1572.267763\n",
      "2       1970.072561\n",
      "3       1384.665488\n",
      "4       1263.343539\n",
      "5        744.851598\n",
      "6       2070.401734\n",
      "7       1605.499218\n",
      "8       -100.045451\n",
      "9       1478.057930\n",
      "10       248.777321\n",
      "11       517.350775\n",
      "12       975.864313\n",
      "13      1796.343748\n",
      "14       888.591211\n",
      "15      1458.065129\n",
      "16      1357.553372\n",
      "17      1310.448456\n",
      "18      1484.177269\n",
      "19       945.692528\n",
      "20      1614.678228\n",
      "21       855.359756\n",
      "22       941.815467\n",
      "23      1170.585904\n",
      "24      1136.537057\n",
      "25       660.638166\n",
      "26      1384.665488\n",
      "27      1578.569687\n",
      "28      1417.714359\n",
      "29       660.638166\n",
      "           ...     \n",
      "4408     895.527942\n",
      "4409     611.108386\n",
      "4410     999.099369\n",
      "4411    1474.180869\n",
      "4412    1119.603926\n",
      "4413    2258.369178\n",
      "4414     939.573188\n",
      "4415    1594.685427\n",
      "4416    1504.352655\n",
      "4417     924.882336\n",
      "4418     399.271080\n",
      "4419     536.891353\n",
      "4420    1879.739789\n",
      "4421     881.654481\n",
      "4422     730.978137\n",
      "4423    1056.200685\n",
      "4424    1397.721558\n",
      "4425    1009.095769\n",
      "4426    1598.562488\n",
      "4427    1353.676311\n",
      "4428    2050.408933\n",
      "4429     781.142723\n",
      "4430    1766.171962\n",
      "4431    1006.036099\n",
      "4432    1321.262247\n",
      "4433     965.867913\n",
      "4434    1474.180869\n",
      "4435    1183.007167\n",
      "4436     764.209593\n",
      "4437    1518.226116\n",
      "Length: 4438, dtype: float64\n"
     ]
    }
   ],
   "source": [
    "\n",
    "\n",
    "mae_dina = xesus.predict(X1)\n",
    "print(mae_dina)\n",
    "\n"
   ]
  },
  {
   "cell_type": "code",
   "execution_count": 160,
   "metadata": {},
   "outputs": [
    {
     "name": "stdout",
     "output_type": "stream",
     "text": [
      "O valor do RMS é: 1249.8535980076615\n"
     ]
    }
   ],
   "source": [
    "def RMS2 (n, y, f):\n",
    "    soma = ((y-f)**2).sum()\n",
    "    rms = (soma/n)**(1/2)\n",
    "    return rms\n",
    "print('O valor do RMS é:',RMS2(len(treinamento), treinamento.Rendimento_mensal, mae_dina))"
   ]
  },
  {
   "cell_type": "markdown",
   "metadata": {},
   "source": [
    "## Hora de testar"
   ]
  },
  {
   "cell_type": "code",
   "execution_count": 172,
   "metadata": {},
   "outputs": [
    {
     "name": "stdout",
     "output_type": "stream",
     "text": [
      "0       1130.417718\n",
      "1       1598.562488\n",
      "2       1314.325516\n",
      "3       1434.012683\n",
      "4       1701.951330\n",
      "5        583.361464\n",
      "6       1957.016491\n",
      "7       1304.329116\n",
      "8       1043.144615\n",
      "9       1447.886144\n",
      "10      1424.833674\n",
      "11       771.146323\n",
      "12        14.339767\n",
      "13       178.072181\n",
      "14      1919.907975\n",
      "15      1326.564196\n",
      "16      1240.743290\n",
      "17      1243.168154\n",
      "18      1105.730465\n",
      "19      1675.656605\n",
      "20      1685.835590\n",
      "21        94.676139\n",
      "22      1100.245932\n",
      "23      1347.556972\n",
      "24      1079.435740\n",
      "25      1447.886144\n",
      "26      1284.153731\n",
      "27       968.927583\n",
      "28      1779.410617\n",
      "29      1317.385186\n",
      "           ...     \n",
      "1449    1361.430433\n",
      "1450    1733.123091\n",
      "1451    1542.278562\n",
      "1452    1179.764913\n",
      "1453    1233.989145\n",
      "1454     730.978137\n",
      "1455     134.844325\n",
      "1456    1035.390494\n",
      "1457     764.209593\n",
      "1458    1152.835382\n",
      "1459     888.591211\n",
      "1460    1793.101493\n",
      "1461    2823.783451\n",
      "1462     744.851598\n",
      "1463    1100.245932\n",
      "1464    2298.537364\n",
      "1465    1180.582304\n",
      "1466    1785.529956\n",
      "1467    1277.217000\n",
      "1468    1819.578803\n",
      "1469     476.730367\n",
      "1470     359.285479\n",
      "1471    1336.560596\n",
      "1472     329.113693\n",
      "1473     479.790037\n",
      "1474     516.898553\n",
      "1475    1200.757689\n",
      "1476    1873.620450\n",
      "1477    1046.204285\n",
      "1478    1440.949414\n",
      "Length: 1479, dtype: float64\n"
     ]
    }
   ],
   "source": [
    "x = teste[['Anos_estudo','Região','Idade']]\n",
    "\n",
    "\n",
    "x = sm.add_constant(x)\n",
    "predict = xesus.predict(x)\n",
    "print(predict)"
   ]
  },
  {
   "cell_type": "code",
   "execution_count": 173,
   "metadata": {},
   "outputs": [
    {
     "name": "stdout",
     "output_type": "stream",
     "text": [
      "O valor de RMS para o teste é: 1219.2767329562253\n",
      "O valor de R2 para o teste é: -0.204906684859534\n"
     ]
    }
   ],
   "source": [
    "print('O valor de RMS para o teste é:',RMS2(len(teste),teste['Rendimento_mensal'],predict))\n",
    "print('O valor de R2 para o teste é:',R2(teste['Rendimento_mensal'],predict,teste.Rendimento_mensal.mean()))"
   ]
  },
  {
   "cell_type": "markdown",
   "metadata": {},
   "source": [
    "### Interpretando"
   ]
  },
  {
   "cell_type": "markdown",
   "metadata": {},
   "source": [
    "Obtivemos um R2 negativo, isso quer dizer que o modelo de predição por regressão linear está sendo menos eficiente do que a predição pela média. Ou seja, caso queiramos prever o rendimento mensal das mulheres de acordo com as características citadas anteriormente, o melhor modelo a ser utilizado para sua predição é pela média. Observamos que não há uma relação direta entre os anos de ensino, idade, região e renda mensal."
   ]
  },
  {
   "cell_type": "code",
   "execution_count": 177,
   "metadata": {},
   "outputs": [
    {
     "name": "stdout",
     "output_type": "stream",
     "text": [
      "Relação entre RMS de treinamento sobre teste da pela média: 1.0196989638675045\n",
      "Relação entre RMS de treinamento sobre teste da regressão linear: 1.5823799510331804\n"
     ]
    }
   ],
   "source": [
    "print('Relação entre RMS de treinamento sobre teste da pela média: ' + str(float(RMS(treinamento['Rendimento_mensal'],treinamento['Rendimento_mensal'].mean(),treinamento['Rendimento_mensal'].mean())/RMS(teste['Rendimento_mensal'],teste['Rendimento_mensal'].mean(),teste['Rendimento_mensal'].mean()))))\n",
    "print('Relação entre RMS de treinamento sobre teste da regressão linear: ' + str(float(RMS2(len(treinamento), treinamento.Rendimento_mensal, mae_dina)/RMS2(len(treinamento),treinamento['Rendimento_mensal'],predict))))"
   ]
  },
  {
   "cell_type": "markdown",
   "metadata": {},
   "source": [
    "Podemos analisar a qualidade dos modelos de predição feitos por meio do coeficiente \"RMS\", o qual é verificado pela divisão de seus valores de treinamento pelos de teste. Sabemos que, quanto mais próximo de 1 melhor é o modelo utilizado. Isso se dá pela qualidade da amostra para explicar o nosso Dataframe como um todo. Pudemos observar que no caso da regressão linear podemos considerar seu resultado como overfiting, isso implica na sua capacidade de generalizar o seu resultado obtido da amostra. Mais uma vez, isso nos mostra que as característcas usadas para avaliar o rendimento mensal não possuem uma correlção forte. Já no modelo de predição pela média, o valor se aproxima de 1. Ou seja, é o modelo mais adequado para utilizarmos."
   ]
  },
  {
   "cell_type": "markdown",
   "metadata": {},
   "source": [
    "___\n",
    "## CONCLUSÃO"
   ]
  },
  {
   "cell_type": "markdown",
   "metadata": {
    "collapsed": true
   },
   "source": [
    "Sabemos por lógica e pela análise dos gráficos scatters acima que existe uma relação entre o rendimento mensal de uma mulher, sua idade, região de moradia e anos de estudo. Porém, concluímos que, por meio do R2 (Erro quadrático) negativo, essa relação é bem pequena. Então, qual seria o motivo real dessa relação não existir no nosso estudo, sabendo que a renda feminina não muda durante o tempo para maioria das mulheres? \n",
    "Isso se dá pelo fato de não termos uma sociedade principalmente meritocrática, e sim uma sociedade corporativista, onde o governo acaba impedindo que pessoas, indivíduos, criem empresas e assim gerem empregos, e que, consequentemente, existam empresas competindo entre si, gerando riqueza. \n",
    "Aí se encontra a base do problema. A riqueza no Brasil é gerada tão devagar que está acompanhando a taxa de crescimento populacional, e isso impede que pessoas consigam ganhar mais pelo trabalho que elas exercem. Assim, existem poucas pessoas que ganham muito, pois essas se referem às poucas empresas que conseguiram sobreviver à regulação estatal do mercado. Ainda mais no caso das mulheres, que em suma maioria ganham muito menos que os homens na ocupação de um mesmo cargo.\n",
    "Logo, concluímos que quando for permitido a criação de empresas sem a regulação estatal, consegue-se um modelo de mercado que irá beneficiar o bom empregado e a boa empresa. A partir deste, o erro encontrado não mais existiria."
   ]
  },
  {
   "cell_type": "markdown",
   "metadata": {},
   "source": [
    "___\n",
    "## REFERÊNCIAS BIBLIOGRÁFICAS"
   ]
  },
  {
   "cell_type": "markdown",
   "metadata": {
    "collapsed": true
   },
   "source": [
    "https://ensinandomaquinasblog.wordpress.com/2017/12/15/modelos-preditivos-de-notas-de-redacao-do-enem-2015/\n",
    "https://machinelearningmastery.com/overfitting-and-underfitting-with-machine-learning-algorithms/\n",
    "https://towardsdatascience.com/simple-and-multiple-linear-regression-in-python-c928425168f9\n",
    "https://stats.stackexchange.com/questions/12900/when-is-r-squared-negative \n",
    "http://www.fairlynerdy.com/what-is-r-squared/\n",
    "    "
   ]
  }
 ],
 "metadata": {
  "anaconda-cloud": {},
  "kernelspec": {
   "display_name": "Python 3",
   "language": "python",
   "name": "python3"
  },
  "language_info": {
   "codemirror_mode": {
    "name": "ipython",
    "version": 3
   },
   "file_extension": ".py",
   "mimetype": "text/x-python",
   "name": "python",
   "nbconvert_exporter": "python",
   "pygments_lexer": "ipython3",
   "version": "3.6.1"
  }
 },
 "nbformat": 4,
 "nbformat_minor": 1
}
